{
 "cells": [
  {
   "cell_type": "markdown",
   "id": "c1d05b65-a48f-400b-baf2-8f8c859ade96",
   "metadata": {},
   "source": [
    "• 使用List构造Series .Series()"
   ]
  },
  {
   "cell_type": "code",
   "execution_count": 10,
   "id": "38baae16-8835-4723-a8ed-f42460e8d410",
   "metadata": {},
   "outputs": [
    {
     "name": "stdout",
     "output_type": "stream",
     "text": [
      "0    Chinese\n",
      "1    English\n",
      "2       Math\n",
      "dtype: object\n"
     ]
    }
   ],
   "source": [
    "import pandas as pd\n",
    "courses = [\"Chinese\",\"English\",\"Math\"]\n",
    "date = pd.Series(data = courses)\n",
    "print(date)"
   ]
  },
  {
   "cell_type": "markdown",
   "id": "2c2d6523-3240-428f-8842-e785c9457114",
   "metadata": {},
   "source": [
    "• 使用Dict构造Series"
   ]
  },
  {
   "cell_type": "code",
   "execution_count": 6,
   "id": "387f6cbe-2f0b-4722-b3e1-5f7fb3ae5105",
   "metadata": {
    "scrolled": true
   },
   "outputs": [
    {
     "name": "stdout",
     "output_type": "stream",
     "text": [
      "Chinese     90\n",
      "Math        80\n",
      "English    100\n",
      "dtype: int64\n"
     ]
    }
   ],
   "source": [
    "import pandas as pd\n",
    "grades = {'Chinese':90,'Math':80,'English':100}\n",
    "data = pd.Series(data = grades)\n",
    "print(data)"
   ]
  },
  {
   "cell_type": "markdown",
   "id": "3170b5c5-7d59-49d3-987d-1aee719d3c7e",
   "metadata": {},
   "source": [
    "• Series转换成List"
   ]
  },
  {
   "cell_type": "code",
   "execution_count": 8,
   "id": "52b8928d-411e-4364-b798-d49ed25aa697",
   "metadata": {},
   "outputs": [
    {
     "name": "stdout",
     "output_type": "stream",
     "text": [
      "[90, 80, 100]\n"
     ]
    }
   ],
   "source": [
    "import pandas as pd\n",
    "grades = {'Chinese':90,'Math':80,'English':100}\n",
    "\n",
    "numbers = data.tolist()\n",
    "print(numbers)"
   ]
  },
  {
   "cell_type": "markdown",
   "id": "93f56090-9831-472f-9e85-8e38f02a4e69",
   "metadata": {},
   "source": [
    "• 将Series转换成DataFrame"
   ]
  },
  {
   "cell_type": "code",
   "execution_count": 9,
   "id": "c3b5f21a-03dd-46a2-a906-597045bce7b6",
   "metadata": {},
   "outputs": [
    {
     "name": "stdout",
     "output_type": "stream",
     "text": [
      "         grade\n",
      "Chinese     90\n",
      "Math        80\n",
      "English    100\n"
     ]
    }
   ],
   "source": [
    "import pandas as pd\n",
    "grades =  {'Chinese':90,'Math':80,'English':100}\n",
    "data = pd.Series(data = grades)\n",
    "\n",
    "df = pd.DataFrame(data, columns = ['grade'])\n",
    "print(df)"
   ]
  },
  {
   "cell_type": "code",
   "execution_count": null,
   "id": "2c9a40e7-0d2b-4d50-8378-4e0515de88aa",
   "metadata": {},
   "outputs": [],
   "source": [
    "• 用Numpy创建Series"
   ]
  },
  {
   "cell_type": "code",
   "execution_count": 11,
   "id": "fdfd1a34-3263-4811-b5b1-c20abd2bea84",
   "metadata": {},
   "outputs": [
    {
     "name": "stdout",
     "output_type": "stream",
     "text": [
      "101    10.0\n",
      "102    20.0\n",
      "103    30.0\n",
      "104    40.0\n",
      "105    50.0\n",
      "106    60.0\n",
      "107    70.0\n",
      "108    80.0\n",
      "109    90.0\n",
      "dtype: float64\n"
     ]
    }
   ],
   "source": [
    "import numpy as np\n",
    "import pandas as pd\n",
    "s = pd.Series(\n",
    "    np.arange(10,100,10),  #数值是10~90 间隔10\n",
    "    index = np.arange(101, 110),   #索引 101~109 间隔1\n",
    "    dtype='float'  #类型 float64\n",
    "    \n",
    ")\n",
    "print(s)"
   ]
  },
  {
   "cell_type": "code",
   "execution_count": null,
   "id": "609da43c-ef6d-4fd2-bc31-fc2ac4620da9",
   "metadata": {},
   "outputs": [],
   "source": [
    "• 转换Series的数据类型 .map() or .astype()"
   ]
  },
  {
   "cell_type": "code",
   "execution_count": 15,
   "id": "f702cb3a-599a-46ff-bb91-562c2602732f",
   "metadata": {},
   "outputs": [
    {
     "name": "stdout",
     "output_type": "stream",
     "text": [
      "a    1\n",
      "b    2\n",
      "c    3\n",
      "d    4\n",
      "dtype: int64\n"
     ]
    }
   ],
   "source": [
    "import pandas as pd\n",
    "s = pd.Series(\n",
    "    data=['001','002','003','004'],\n",
    "    index=list('abcd'),\n",
    "    \n",
    ")\n",
    "#s = s.astype(int)\n",
    "s = s.map(int)\n",
    "print(s)"
   ]
  },
  {
   "cell_type": "code",
   "execution_count": null,
   "id": "d7177fa0-7c3b-4d83-83fc-2ca7b0f8084d",
   "metadata": {},
   "outputs": [],
   "source": [
    "• 给已存在的Series添加元素 ._append()"
   ]
  },
  {
   "cell_type": "code",
   "execution_count": 17,
   "id": "fcf79c79-d02f-4b0c-be7f-537b5183c699",
   "metadata": {},
   "outputs": [
    {
     "name": "stdout",
     "output_type": "stream",
     "text": [
      "Chinese       90\n",
      "Math          80\n",
      "English      100\n",
      "geography     70\n",
      "PE           100\n",
      "dtype: int64\n"
     ]
    }
   ],
   "source": [
    "import pandas as pd\n",
    "grades =  {'Chinese':90,'Math':80,'English':100}\n",
    "data = pd.Series(data = grades)\n",
    "\n",
    "data = data._append(pd.Series({\n",
    "    'geography':70, \n",
    "    'PE':100\n",
    "}))\n",
    "print(data)"
   ]
  },
  {
   "cell_type": "code",
   "execution_count": null,
   "id": "2cf63c15-571c-474a-9f0a-f9a7a305dcee",
   "metadata": {},
   "outputs": [],
   "source": [
    "• 给Series转换成DataFrame 需要设定列名  .reset_index()重置索引"
   ]
  },
  {
   "cell_type": "code",
   "execution_count": 2,
   "id": "922a54e8-7d9c-430a-9287-bbc02f3307dd",
   "metadata": {},
   "outputs": [
    {
     "name": "stdout",
     "output_type": "stream",
     "text": [
      "    course  grade\n",
      "0  Chinese     90\n",
      "1     Math     80\n",
      "2  English    100\n"
     ]
    }
   ],
   "source": [
    "import pandas as pd\n",
    "grades = {'Chinese':90,'Math':80,'English':100}\n",
    "data = pd.Series(data = grades)\n",
    "\n",
    "df = data.reset_index()\n",
    "df.columns = ['course','grade']\n",
    "print(df)"
   ]
  },
  {
   "cell_type": "code",
   "execution_count": null,
   "id": "7b0c826f-8708-4a20-b4c1-58289577a2d4",
   "metadata": {},
   "outputs": [],
   "source": []
  }
 ],
 "metadata": {
  "kernelspec": {
   "display_name": "Python 3 (ipykernel)",
   "language": "python",
   "name": "python3"
  },
  "language_info": {
   "codemirror_mode": {
    "name": "ipython",
    "version": 3
   },
   "file_extension": ".py",
   "mimetype": "text/x-python",
   "name": "python",
   "nbconvert_exporter": "python",
   "pygments_lexer": "ipython3",
   "version": "3.11.2"
  }
 },
 "nbformat": 4,
 "nbformat_minor": 5
}
